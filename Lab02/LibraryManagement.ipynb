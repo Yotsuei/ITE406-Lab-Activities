{
 "cells": [
  {
   "cell_type": "markdown",
   "metadata": {},
   "source": []
  },
  {
   "cell_type": "code",
   "execution_count": 13,
   "metadata": {},
   "outputs": [
    {
     "name": "stderr",
     "output_type": "stream",
     "text": [
      "[nltk_data] Downloading package punkt_tab to\n",
      "[nltk_data]     C:\\Users\\idcsa\\AppData\\Roaming\\nltk_data...\n",
      "[nltk_data]   Package punkt_tab is already up-to-date!\n",
      "[nltk_data] Downloading package stopwords to\n",
      "[nltk_data]     C:\\Users\\idcsa\\AppData\\Roaming\\nltk_data...\n",
      "[nltk_data]   Package stopwords is already up-to-date!\n",
      "[nltk_data] Downloading package vader_lexicon to\n",
      "[nltk_data]     C:\\Users\\idcsa\\AppData\\Roaming\\nltk_data...\n"
     ]
    },
    {
     "data": {
      "text/plain": [
       "True"
      ]
     },
     "execution_count": 13,
     "metadata": {},
     "output_type": "execute_result"
    }
   ],
   "source": [
    "import pandas as pd\n",
    "\n",
    "import nltk\n",
    "from nltk.corpus import stopwords\n",
    "from nltk.tokenize import word_tokenize\n",
    "\n",
    "from nltk.sentiment.vader import SentimentIntensityAnalyzer\n",
    "\n",
    "import datetime\n",
    "\n",
    "# Download NLTK resources\n",
    "nltk.download('punkt_tab')\n",
    "nltk.download('stopwords')\n",
    "\n",
    "# Download the VADER lexicon\n",
    "nltk.download('vader_lexicon')\n",
    "\n"
   ]
  },
  {
   "cell_type": "markdown",
   "metadata": {},
   "source": []
  },
  {
   "cell_type": "code",
   "execution_count": 5,
   "metadata": {},
   "outputs": [
    {
     "name": "stdout",
     "output_type": "stream",
     "text": [
      "Book 'The Great Gatsby' by F. Scott Fitzgerald added successfully!\n",
      "Book '1984' by George Orwell added successfully!\n",
      "Book 'To Kill a Mockingbird' by Harper Lee added successfully!\n"
     ]
    },
    {
     "data": {
      "text/html": [
       "<div>\n",
       "<style scoped>\n",
       "    .dataframe tbody tr th:only-of-type {\n",
       "        vertical-align: middle;\n",
       "    }\n",
       "\n",
       "    .dataframe tbody tr th {\n",
       "        vertical-align: top;\n",
       "    }\n",
       "\n",
       "    .dataframe thead th {\n",
       "        text-align: right;\n",
       "    }\n",
       "</style>\n",
       "<table border=\"1\" class=\"dataframe\">\n",
       "  <thead>\n",
       "    <tr style=\"text-align: right;\">\n",
       "      <th></th>\n",
       "      <th>Title</th>\n",
       "      <th>Author</th>\n",
       "      <th>Genre</th>\n",
       "      <th>Availability</th>\n",
       "    </tr>\n",
       "  </thead>\n",
       "  <tbody>\n",
       "    <tr>\n",
       "      <th>0</th>\n",
       "      <td>The Great Gatsby</td>\n",
       "      <td>F. Scott Fitzgerald</td>\n",
       "      <td>Fiction</td>\n",
       "      <td>Available</td>\n",
       "    </tr>\n",
       "    <tr>\n",
       "      <th>1</th>\n",
       "      <td>1984</td>\n",
       "      <td>George Orwell</td>\n",
       "      <td>Dystopian</td>\n",
       "      <td>Available</td>\n",
       "    </tr>\n",
       "    <tr>\n",
       "      <th>2</th>\n",
       "      <td>To Kill a Mockingbird</td>\n",
       "      <td>Harper Lee</td>\n",
       "      <td>Fiction</td>\n",
       "      <td>Available</td>\n",
       "    </tr>\n",
       "  </tbody>\n",
       "</table>\n",
       "</div>"
      ],
      "text/plain": [
       "                   Title               Author      Genre Availability\n",
       "0       The Great Gatsby  F. Scott Fitzgerald    Fiction    Available\n",
       "1                   1984        George Orwell  Dystopian    Available\n",
       "2  To Kill a Mockingbird           Harper Lee    Fiction    Available"
      ]
     },
     "execution_count": 5,
     "metadata": {},
     "output_type": "execute_result"
    }
   ],
   "source": [
    "# Initialize the books DataFrame\n",
    "books_df = pd.DataFrame(columns=[\"Title\", \"Author\", \"Genre\", \"Availability\"])\n",
    "\n",
    "# Function to add a new book\n",
    "def add_book(title, author, genre):\n",
    "    global books_df\n",
    "    new_book = pd.DataFrame({\"Title\": [title], \"Author\": [author], \"Genre\": [genre], \"Availability\": [\"Available\"]})\n",
    "    books_df = pd.concat([books_df, new_book], ignore_index=True)\n",
    "    print(f\"Book '{title}' by {author} added successfully!\")\n",
    "\n",
    "# Function to remove a book\n",
    "def remove_book(title):\n",
    "    global books_df\n",
    "    books_df = books_df[books_df['Title'] != title]\n",
    "    print(f\"Book '{title}' removed successfully!\")\n",
    "\n",
    "# Add sample books\n",
    "add_book(\"The Great Gatsby\", \"F. Scott Fitzgerald\", \"Fiction\")\n",
    "add_book(\"1984\", \"George Orwell\", \"Dystopian\")\n",
    "add_book(\"To Kill a Mockingbird\", \"Harper Lee\", \"Fiction\")\n",
    "\n",
    "# Display the books\n",
    "books_df\n"
   ]
  },
  {
   "cell_type": "markdown",
   "metadata": {},
   "source": []
  },
  {
   "cell_type": "code",
   "execution_count": 25,
   "metadata": {},
   "outputs": [
    {
     "name": "stdout",
     "output_type": "stream",
     "text": [
      "No books found for query: 'Ben 10'\n"
     ]
    }
   ],
   "source": [
    "# Function to search for books\n",
    "def search_books(query):\n",
    "    global books_df\n",
    "    stop_words = set(stopwords.words('english'))\n",
    "    words = word_tokenize(query.lower())\n",
    "    filtered_words = [word for word in words if word.isalnum() and word not in stop_words]\n",
    "    \n",
    "    results = books_df[\n",
    "        books_df['Title'].str.lower().str.contains('|'.join(filtered_words)) |\n",
    "        books_df['Author'].str.lower().str.contains('|'.join(filtered_words)) |\n",
    "        books_df['Genre'].str.lower().str.contains('|'.join(filtered_words))\n",
    "    ]\n",
    "    \n",
    "    if not results.empty:\n",
    "        print(f\"Books matching '{query}':\")\n",
    "        print(results)\n",
    "    else:\n",
    "        print(f\"No books found for query: '{query}'\")\n",
    "\n",
    "# Example search\n",
    "search_books(\"Ben 10\")\n"
   ]
  },
  {
   "cell_type": "markdown",
   "metadata": {},
   "source": []
  },
  {
   "cell_type": "code",
   "execution_count": 16,
   "metadata": {},
   "outputs": [
    {
     "name": "stdout",
     "output_type": "stream",
     "text": [
      "Review Sentiment Analysis: {'neg': 0.0, 'neu': 0.568, 'pos': 0.432, 'compound': 0.7263}\n",
      "Overall Sentiment: Positive\n"
     ]
    }
   ],
   "source": [
    "# Initialize the VADER sentiment analyzer\n",
    "sid = SentimentIntensityAnalyzer()\n",
    "\n",
    "# Function to analyze sentiment of a review\n",
    "def analyze_review_sentiment(review):\n",
    "    sentiment_scores = sid.polarity_scores(review)\n",
    "    print(f\"Review Sentiment Analysis: {sentiment_scores}\")\n",
    "    if sentiment_scores['compound'] >= 0.05:\n",
    "        print(\"Overall Sentiment: Positive\")\n",
    "    elif sentiment_scores['compound'] <= -0.05:\n",
    "        print(\"Overall Sentiment: Negative\")\n",
    "    else:\n",
    "        print(\"Overall Sentiment: Neutral\")\n",
    "\n",
    "# Example review analysis\n",
    "analyze_review_sentiment(\"This is nicer than expected but it could be better!\")\n"
   ]
  },
  {
   "cell_type": "markdown",
   "metadata": {},
   "source": []
  },
  {
   "cell_type": "code",
   "execution_count": 21,
   "metadata": {},
   "outputs": [
    {
     "name": "stdout",
     "output_type": "stream",
     "text": [
      "'1984' has been borrowed by Alice Johnson.\n"
     ]
    },
    {
     "data": {
      "text/html": [
       "<div>\n",
       "<style scoped>\n",
       "    .dataframe tbody tr th:only-of-type {\n",
       "        vertical-align: middle;\n",
       "    }\n",
       "\n",
       "    .dataframe tbody tr th {\n",
       "        vertical-align: top;\n",
       "    }\n",
       "\n",
       "    .dataframe thead th {\n",
       "        text-align: right;\n",
       "    }\n",
       "</style>\n",
       "<table border=\"1\" class=\"dataframe\">\n",
       "  <thead>\n",
       "    <tr style=\"text-align: right;\">\n",
       "      <th></th>\n",
       "      <th>Borrower Name</th>\n",
       "      <th>Book Title</th>\n",
       "      <th>Borrow Date</th>\n",
       "      <th>Due Date</th>\n",
       "    </tr>\n",
       "  </thead>\n",
       "  <tbody>\n",
       "    <tr>\n",
       "      <th>0</th>\n",
       "      <td>Alice Johnson</td>\n",
       "      <td>1984</td>\n",
       "      <td>2024-09-05</td>\n",
       "      <td>2024-09-19</td>\n",
       "    </tr>\n",
       "  </tbody>\n",
       "</table>\n",
       "</div>"
      ],
      "text/plain": [
       "   Borrower Name Book Title Borrow Date    Due Date\n",
       "0  Alice Johnson       1984  2024-09-05  2024-09-19"
      ]
     },
     "execution_count": 21,
     "metadata": {},
     "output_type": "execute_result"
    }
   ],
   "source": [
    "# Initialize the borrowers DataFrame\n",
    "borrowers_df = pd.DataFrame(columns=[\"Borrower Name\", \"Book Title\", \"Borrow Date\", \"Due Date\"])\n",
    "\n",
    "# Function to add a borrower\n",
    "def add_borrower(borrower_name, book_title):\n",
    "    global borrowers_df, books_df\n",
    "    if books_df.loc[books_df['Title'] == book_title, 'Availability'].values[0] == \"Available\":\n",
    "        borrow_date = datetime.date.today()\n",
    "        due_date = borrow_date + datetime.timedelta(days=14)  # 2 weeks borrowing period\n",
    "        new_borrower = pd.DataFrame({\n",
    "            \"Borrower Name\": [borrower_name], \n",
    "            \"Book Title\": [book_title], \n",
    "            \"Borrow Date\": [borrow_date], \n",
    "            \"Due Date\": [due_date]\n",
    "        })\n",
    "        borrowers_df = pd.concat([borrowers_df, new_borrower], ignore_index=True)\n",
    "        # Update book availability\n",
    "        books_df.loc[books_df['Title'] == book_title, 'Availability'] = \"Borrowed\"\n",
    "        print(f\"'{book_title}' has been borrowed by {borrower_name}.\")\n",
    "    else:\n",
    "        print(f\"Sorry, '{book_title}' is currently not available.\")\n",
    "\n",
    "# Example of adding a borrower\n",
    "add_borrower(\"Alice Johnson\", \"1984\")\n",
    "\n",
    "# Display borrowers\n",
    "borrowers_df\n"
   ]
  },
  {
   "cell_type": "markdown",
   "metadata": {},
   "source": []
  },
  {
   "cell_type": "code",
   "execution_count": 23,
   "metadata": {},
   "outputs": [
    {
     "name": "stdout",
     "output_type": "stream",
     "text": [
      "'1984' has been returned by Alice Johnson and is now available.\n"
     ]
    },
    {
     "data": {
      "text/plain": [
       "(Empty DataFrame\n",
       " Columns: [Borrower Name, Book Title, Borrow Date, Due Date]\n",
       " Index: [],\n",
       "                    Title               Author      Genre Availability\n",
       " 0       The Great Gatsby  F. Scott Fitzgerald    Fiction    Available\n",
       " 1                   1984        George Orwell  Dystopian    Available\n",
       " 2  To Kill a Mockingbird           Harper Lee    Fiction    Available)"
      ]
     },
     "execution_count": 23,
     "metadata": {},
     "output_type": "execute_result"
    }
   ],
   "source": [
    "# Function to return a book\n",
    "def return_book(borrower_name, book_title):\n",
    "    global borrowers_df, books_df\n",
    "    borrowers_df = borrowers_df[\n",
    "        ~(borrowers_df['Borrower Name'] == borrower_name) & (borrowers_df['Book Title'] == book_title)\n",
    "    ]\n",
    "    books_df.loc[books_df['Title'] == book_title, 'Availability'] = \"Available\"\n",
    "    print(f\"'{book_title}' has been returned by {borrower_name} and is now available.\")\n",
    "\n",
    "# Example of returning a book\n",
    "return_book(\"Alice Johnson\", \"1984\")\n",
    "\n",
    "# Display updated borrowers and books\n",
    "borrowers_df, books_df\n"
   ]
  },
  {
   "cell_type": "code",
   "execution_count": 26,
   "metadata": {},
   "outputs": [
    {
     "name": "stdout",
     "output_type": "stream",
     "text": [
      "Book 'Ben 10' by  added successfully!\n"
     ]
    }
   ],
   "source": [
    "add_book(\"Ben 10\", \"\", \"Fiction\")\n"
   ]
  },
  {
   "cell_type": "code",
   "execution_count": 28,
   "metadata": {},
   "outputs": [
    {
     "name": "stdout",
     "output_type": "stream",
     "text": [
      "Books matching 'Ben Ten':\n",
      "    Title Author    Genre Availability\n",
      "3  Ben 10         Fiction    Available\n"
     ]
    }
   ],
   "source": [
    "search_books(\"Ben Ten\")"
   ]
  },
  {
   "cell_type": "code",
   "execution_count": 27,
   "metadata": {},
   "outputs": [
    {
     "data": {
      "text/html": [
       "<div>\n",
       "<style scoped>\n",
       "    .dataframe tbody tr th:only-of-type {\n",
       "        vertical-align: middle;\n",
       "    }\n",
       "\n",
       "    .dataframe tbody tr th {\n",
       "        vertical-align: top;\n",
       "    }\n",
       "\n",
       "    .dataframe thead th {\n",
       "        text-align: right;\n",
       "    }\n",
       "</style>\n",
       "<table border=\"1\" class=\"dataframe\">\n",
       "  <thead>\n",
       "    <tr style=\"text-align: right;\">\n",
       "      <th></th>\n",
       "      <th>Title</th>\n",
       "      <th>Author</th>\n",
       "      <th>Genre</th>\n",
       "      <th>Availability</th>\n",
       "    </tr>\n",
       "  </thead>\n",
       "  <tbody>\n",
       "    <tr>\n",
       "      <th>0</th>\n",
       "      <td>The Great Gatsby</td>\n",
       "      <td>F. Scott Fitzgerald</td>\n",
       "      <td>Fiction</td>\n",
       "      <td>Available</td>\n",
       "    </tr>\n",
       "    <tr>\n",
       "      <th>1</th>\n",
       "      <td>1984</td>\n",
       "      <td>George Orwell</td>\n",
       "      <td>Dystopian</td>\n",
       "      <td>Available</td>\n",
       "    </tr>\n",
       "    <tr>\n",
       "      <th>2</th>\n",
       "      <td>To Kill a Mockingbird</td>\n",
       "      <td>Harper Lee</td>\n",
       "      <td>Fiction</td>\n",
       "      <td>Available</td>\n",
       "    </tr>\n",
       "    <tr>\n",
       "      <th>3</th>\n",
       "      <td>Ben 10</td>\n",
       "      <td></td>\n",
       "      <td>Fiction</td>\n",
       "      <td>Available</td>\n",
       "    </tr>\n",
       "  </tbody>\n",
       "</table>\n",
       "</div>"
      ],
      "text/plain": [
       "                   Title               Author      Genre Availability\n",
       "0       The Great Gatsby  F. Scott Fitzgerald    Fiction    Available\n",
       "1                   1984        George Orwell  Dystopian    Available\n",
       "2  To Kill a Mockingbird           Harper Lee    Fiction    Available\n",
       "3                 Ben 10                         Fiction    Available"
      ]
     },
     "execution_count": 27,
     "metadata": {},
     "output_type": "execute_result"
    }
   ],
   "source": [
    "books_df"
   ]
  }
 ],
 "metadata": {
  "kernelspec": {
   "display_name": "ITE406_Env",
   "language": "python",
   "name": "python3"
  },
  "language_info": {
   "codemirror_mode": {
    "name": "ipython",
    "version": 3
   },
   "file_extension": ".py",
   "mimetype": "text/x-python",
   "name": "python",
   "nbconvert_exporter": "python",
   "pygments_lexer": "ipython3",
   "version": "3.11.7"
  }
 },
 "nbformat": 4,
 "nbformat_minor": 2
}
