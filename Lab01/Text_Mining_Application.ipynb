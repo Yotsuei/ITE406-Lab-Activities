{
 "cells": [
  {
   "cell_type": "markdown",
   "metadata": {},
   "source": [
    "# Named Entity Recognition\n"
   ]
  },
  {
   "cell_type": "code",
   "execution_count": 4,
   "metadata": {},
   "outputs": [],
   "source": [
    "import spacy\n",
    "import requests\n",
    "from bs4 import BeautifulSoup"
   ]
  },
  {
   "cell_type": "code",
   "execution_count": 5,
   "metadata": {},
   "outputs": [],
   "source": [
    "nlp = spacy.load(\"en_core_web_sm\")\n",
    "\n",
    "url = \"https://en.wikipedia.org/wiki/Named-entity_recognition\"\n",
    "\n",
    "response = requests.get(url)\n",
    "\n",
    "soup = BeautifulSoup(response.text, 'html.parser')\n",
    "\n",
    "text = ' '.join([p.get_text() for p in soup.find_all('p')])\n"
   ]
  },
  {
   "cell_type": "code",
   "execution_count": 6,
   "metadata": {},
   "outputs": [
    {
     "name": "stdout",
     "output_type": "stream",
     "text": [
      "NER ORG\n",
      "NER ORG\n",
      "NEE ORG\n",
      "Jim PERSON\n",
      "300 CARDINAL\n",
      "Acme Corp. ORG\n",
      "2006 DATE\n",
      "300 CARDINAL\n",
      "one CARDINAL\n",
      "two CARDINAL\n",
      "NER ORG\n",
      "English LANGUAGE\n",
      "MUC-7 ORG\n",
      "93.39% PERCENT\n",
      "97.60% PERCENT\n",
      "NER ORG\n",
      "one CARDINAL\n",
      "Kripke,[5][6 ORG\n",
      "NER ORG\n",
      "Henry Ford PERSON\n",
      "1903 DATE\n",
      "Ford ORG\n",
      "Ford Motor Company ORG\n",
      "Ford ORG\n",
      "Ford ORG\n",
      "substances,[7 PRODUCT\n",
      "De PERSON\n",
      "implementations,[8 PRODUCT\n",
      "two CARDINAL\n",
      "first ORDINAL\n",
      "Bank of America ORG\n",
      "America GPE\n",
      "second ORDINAL\n",
      "NER ORG\n",
      "the year 2001 DATE\n",
      "June DATE\n",
      "first ORDINAL\n",
      "the year 2001 DATE\n",
      "the 2001st year DATE\n",
      "second ORDINAL\n",
      "the month June DATE\n",
      "the month DATE\n",
      "past June DATE\n",
      "next June DATE\n",
      "2002 DATE\n",
      "29 CARDINAL\n",
      "64 CARDINAL\n",
      "Sekine ORG\n",
      "2002 DATE\n",
      "200 CARDINAL\n",
      "NER ORG\n",
      "NER ORG\n",
      "F1 CARDINAL\n",
      "NER ORG\n",
      "One CARDINAL\n",
      "at least two CARDINAL\n",
      "first ORDINAL\n",
      "90% PERCENT\n",
      "second ORDINAL\n",
      "first ORDINAL\n",
      "½ PERSON\n",
      "F1 CARDINAL\n",
      "one CARDINAL\n",
      "Ph.D. WORK_OF_ART\n",
      "NER ORG\n",
      "months DATE\n",
      "NER ORG\n",
      "effort.[16][17]\n",
      "  PERSON\n",
      "NER ORG\n",
      "2001 DATE\n",
      "NER ORG\n",
      "NER ORG\n",
      "one CARDINAL\n",
      "NER ORG\n",
      "NER ORG\n",
      "the 1990s DATE\n",
      "ACE ORG\n",
      "about 1998 DATE\n",
      "CHEMDNER ORG\n",
      "27 CARDINAL\n",
      "MUC-7 ORG\n",
      "recent years DATE\n",
      "NER.[25 PERSON\n",
      "Twitter PRODUCT\n",
      "NER ORG\n",
      "HMM ORG\n",
      "Markov PERSON\n",
      "CRF ORG\n",
      "NER ORG\n",
      "Wikipedia ORG\n",
      "Wikification ORG\n",
      "NER ORG\n",
      "Twitter PRODUCT\n",
      "NER ORG\n",
      "English LANGUAGE\n",
      "CRFs.[34][35][36 ORG\n"
     ]
    }
   ],
   "source": [
    "doc = nlp(text)\n",
    "\n",
    "for ent in doc.ents:\n",
    "    print(ent.text, ent.label_)"
   ]
  }
 ],
 "metadata": {
  "kernelspec": {
   "display_name": "base",
   "language": "python",
   "name": "python3"
  },
  "language_info": {
   "codemirror_mode": {
    "name": "ipython",
    "version": 3
   },
   "file_extension": ".py",
   "mimetype": "text/x-python",
   "name": "python",
   "nbconvert_exporter": "python",
   "pygments_lexer": "ipython3",
   "version": "3.11.7"
  }
 },
 "nbformat": 4,
 "nbformat_minor": 2
}
